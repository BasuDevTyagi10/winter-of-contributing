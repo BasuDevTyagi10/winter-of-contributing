{
 "cells": [
  {
   "cell_type": "markdown",
   "source": [
    "# Web Framework - Flask\n",
    "&emsp;Flask is micro-framework which primarily depends on the Jinja template engine and the Werkzeug WSGI toolkit.\n",
    "\n",
    "&emsp;It can be used to create simple content sites like blogs, deploy ML models, create APIs, etc. However since it is a lightweight framework it's not recommended to build a bulky and heavy load web application with it."
   ],
   "metadata": {}
  },
  {
   "cell_type": "markdown",
   "source": [
    "## Installation:\n",
    "**Python :**\n",
    "<br>&emsp;Latest version is recommended (Python 3.6 and newer)<br>\n",
    "**Dependencies :**\n",
    "<br>&emsp;All these dependencies are automatically installed along with Flask - \n",
    "[Werkzeug](https://palletsprojects.com/p/werkzeug/), [Jinja](https://palletsprojects.com/p/jinja/), [MarkupSafe](https://palletsprojects.com/p/markupsafe/), [ItsDangerous](https://palletsprojects.com/p/itsdangerous/) and [Click](https://palletsprojects.com/p/click/).\n",
    "<br>&emsp;(Click on the titles to reach the official documentation of the respective dependencies)"
   ],
   "metadata": {}
  },
  {
   "cell_type": "markdown",
   "source": [
    "### Virtual Environment Setup\n",
    "&emsp;In order to avoid compatibility issues between the different versions of the libraries we must install ```virtualenv``` and create a separate Python environment for Flask installation.\n",
    "\n",
    "1. Install ```virtualenv``` by running the following command in the terminal -\n",
    "    ```\n",
    "    ~$ pip install virtualenv\n",
    "    ```\n",
    "\n",
    "2. Create a virtual environment by running the following command -\n",
    "    ```\n",
    "    ~$ python3 -m venv myenv\n",
    "    ```\n",
    "3. Activate the virtual environment by -\n",
    "\n",
    "    Windows:\n",
    "    ```\n",
    "    $ myenv\\Scripts\\activate.bat\n",
    "    ```\n",
    "\n",
    "    macOS/Linux:\n",
    "    ```\n",
    "    $ . myenv/bin/activate\n",
    "    ```\n",
    "\n",
    "4. Install ```Flask``` -\n",
    "    ```\n",
    "    $ pip install Flask\n",
    "    ```\n",
    "\n",
    "The above process can also be managed through a GUI alternative. We can install [Anaconda](https://www.anaconda.com/products/individual) which allows the developer to manage virtual environments, library packages, IDEs and other Python related software packages."
   ],
   "metadata": {}
  },
  {
   "cell_type": "markdown",
   "source": [
    "## Setting up a minimal app\n",
    "&emsp;Let's see how can we setup a minimal web-app that displays the first words a program learns... ```Hello World!```.\n",
    "1. Create a project directory.\n",
    "    ```\n",
    "    (myenv)$ mkdir my_flask_app\n",
    "    (myenv)$ cd my_flask_app\n",
    "    ```\n",
    "2. Create a python file and copy the below starter given code -"
   ],
   "metadata": {}
  },
  {
   "cell_type": "code",
   "execution_count": 11,
   "source": [
    "# Importing flask module\r\n",
    "from flask import Flask\r\n",
    "\r\n",
    "app = Flask(__name__)\r\n",
    "\r\n",
    "# Setting URL route\r\n",
    "@app.route('/')\r\n",
    "def hello_world():\r\n",
    "    return 'Hello World'\r\n",
    "\r\n",
    "# driver function\r\n",
    "if __name__ == '__main__':\r\n",
    "    # run() method of Flask class is used to run the application on the local development server (by default).\r\n",
    "    app.run(debug=True, use_reloader=False)"
   ],
   "outputs": [
    {
     "output_type": "stream",
     "name": "stdout",
     "text": [
      " * Serving Flask app \"__main__\" (lazy loading)\n",
      " * Environment: production\n",
      "\u001b[31m   WARNING: This is a development server. Do not use it in a production deployment.\u001b[0m\n",
      "\u001b[2m   Use a production WSGI server instead.\u001b[0m\n",
      " * Debug mode: on\n"
     ]
    },
    {
     "output_type": "stream",
     "name": "stderr",
     "text": [
      " * Running on http://127.0.0.1:5000/ (Press CTRL+C to quit)\n"
     ]
    }
   ],
   "metadata": {}
  },
  {
   "cell_type": "markdown",
   "source": [
    "(Note: Incase you are running the above code in a ipynb and it throws a ```SystemError```, try passing ```use_reloader=False``` in the run method.)\n",
    "\n",
    "Let's now understand the above code:\n",
    "1. First we import the flask module to get the Flask class.\n",
    "2. We intialize our app using the Flask constructor which takes the current module as argument.\n",
    "3. We setup the route using ```route()``` method which is a decorator in the Flask class. It tells the app which URL should call the associated function.\n",
    "4. We create simple ```hello_world()``` method that returns our message.\n",
    "5. We create a driver method that runs our app on the local development server in debug mode."
   ],
   "metadata": {}
  },
  {
   "cell_type": "markdown",
   "source": [
    "We can also change the host and port of our development server by simply passing them as arguments in the ```run()``` method as shown below:"
   ],
   "metadata": {}
  },
  {
   "cell_type": "code",
   "execution_count": 12,
   "source": [
    "from flask import Flask\r\n",
    "\r\n",
    "app = Flask(__name__)\r\n",
    "\r\n",
    "@app.route('/')\r\n",
    "def hello_world():\r\n",
    "    return 'Hello World'\r\n",
    "\r\n",
    "if __name__ == '__main__':\r\n",
    "    app.run(host='0.0.0.0', port=8000, debug=True, use_reloader=False)"
   ],
   "outputs": [
    {
     "output_type": "stream",
     "name": "stdout",
     "text": [
      " * Serving Flask app \"__main__\" (lazy loading)\n",
      " * Environment: production\n",
      "\u001b[31m   WARNING: This is a development server. Do not use it in a production deployment.\u001b[0m\n",
      "\u001b[2m   Use a production WSGI server instead.\u001b[0m\n",
      " * Debug mode: on\n"
     ]
    },
    {
     "output_type": "stream",
     "name": "stderr",
     "text": [
      " * Running on all addresses.\n",
      "   WARNING: This is a development server. Do not use it in a production deployment.\n",
      " * Running on http://192.168.30.178:8000/ (Press CTRL+C to quit)\n"
     ]
    }
   ],
   "metadata": {}
  },
  {
   "cell_type": "markdown",
   "source": [
    "## Files and Templates\r\n",
    "Now since we are dealing with Web-Apps, it is about time we have to understand how to work with HTML. One way to do it is -"
   ],
   "metadata": {}
  },
  {
   "cell_type": "code",
   "execution_count": 13,
   "source": [
    "from flask import Flask\r\n",
    "\r\n",
    "app = Flask(__name__)\r\n",
    "\r\n",
    "@app.route('/')\r\n",
    "def hello_world():\r\n",
    "    return \"<h1>Hello World! using HTML</h1>\"\r\n",
    "\r\n",
    "if __name__ == '__main__':\r\n",
    "    app.run(debug=True, use_reloader=False)"
   ],
   "outputs": [
    {
     "output_type": "stream",
     "name": "stdout",
     "text": [
      " * Serving Flask app \"__main__\" (lazy loading)\n",
      " * Environment: production\n",
      "\u001b[31m   WARNING: This is a development server. Do not use it in a production deployment.\u001b[0m\n",
      "\u001b[2m   Use a production WSGI server instead.\u001b[0m\n",
      " * Debug mode: on\n"
     ]
    },
    {
     "output_type": "stream",
     "name": "stderr",
     "text": [
      " * Running on http://127.0.0.1:5000/ (Press CTRL+C to quit)\n"
     ]
    }
   ],
   "metadata": {}
  },
  {
   "cell_type": "markdown",
   "source": [
    "Although this works, this isn't the best practice. The best practice is to separate the templates and statics i.e. the HTML, CSS & JS from the Python file. Inorder to do this we create a templates folder which will contain all the HTML files and a static folder which will contain all the static files like CSS, JS, images, etc.\r\n",
    "To ensure our application can find these files we must organize our directory in the following format:\r\n",
    "```\r\n",
    "- app.py\r\n",
    "/templates\r\n",
    "    - index.html\r\n",
    "/static\r\n",
    "    /styles\r\n",
    "        - style.css\r\n",
    "    /scripts\r\n",
    "        - script.js\r\n",
    "    /images\r\n",
    "        - image.png\r\n",
    "```\r\n",
    "Failure to do so might lead to errors since the app won't be able to locate the files."
   ],
   "metadata": {}
  },
  {
   "cell_type": "markdown",
   "source": [
    "Now let's see how to use the templates:\r\n",
    "<br>&emsp; We will make use of the ```render_template()``` method in Flask."
   ],
   "metadata": {}
  },
  {
   "cell_type": "code",
   "execution_count": 14,
   "source": [
    "from flask import Flask, render_template\r\n",
    "\r\n",
    "app = Flask(__name__)\r\n",
    "\r\n",
    "@app.route('/')\r\n",
    "def hello_world():\r\n",
    "    return render_template('index.html')\r\n",
    "\r\n",
    "if __name__ == '__main__':\r\n",
    "    app.run(debug=True, use_reloader=False)"
   ],
   "outputs": [
    {
     "output_type": "stream",
     "name": "stdout",
     "text": [
      " * Serving Flask app \"__main__\" (lazy loading)\n",
      " * Environment: production\n",
      "\u001b[31m   WARNING: This is a development server. Do not use it in a production deployment.\u001b[0m\n",
      "\u001b[2m   Use a production WSGI server instead.\u001b[0m\n",
      " * Debug mode: on\n"
     ]
    },
    {
     "output_type": "stream",
     "name": "stderr",
     "text": [
      " * Running on http://127.0.0.1:5000/ (Press CTRL+C to quit)\n"
     ]
    }
   ],
   "metadata": {}
  },
  {
   "cell_type": "markdown",
   "source": [
    "## URL Routing\r\n",
    "&emsp;With Flask, URL routing is traditionally done using decorators. These decorators can be used for static routing, as\r\n",
    "well as routing URLs with parameters."
   ],
   "metadata": {}
  },
  {
   "cell_type": "code",
   "execution_count": 15,
   "source": [
    "from flask import Flask\r\n",
    "\r\n",
    "app = Flask(__name__)\r\n",
    "\r\n",
    "@app.route(\"/\")\r\n",
    "def index():\r\n",
    "    return \"You are at the homepage (localhost:5000)\"\r\n",
    "\r\n",
    "@app.route(\"/about\")\r\n",
    "def about():\r\n",
    "    return \"You are at the about page (localhost:5000/about)\"\r\n",
    "\r\n",
    "if __name__ == '__main__':\r\n",
    "    app.run(debug=True, use_reloader=False)\r\n"
   ],
   "outputs": [
    {
     "output_type": "stream",
     "name": "stdout",
     "text": [
      " * Serving Flask app \"__main__\" (lazy loading)\n",
      " * Environment: production\n",
      "\u001b[31m   WARNING: This is a development server. Do not use it in a production deployment.\u001b[0m\n",
      "\u001b[2m   Use a production WSGI server instead.\u001b[0m\n",
      " * Debug mode: on\n"
     ]
    },
    {
     "output_type": "stream",
     "name": "stderr",
     "text": [
      " * Running on http://127.0.0.1:5000/ (Press CTRL+C to quit)\n"
     ]
    }
   ],
   "metadata": {}
  },
  {
   "cell_type": "code",
   "execution_count": 18,
   "source": [
    "from flask import Flask\r\n",
    "\r\n",
    "app = Flask(__name__)\r\n",
    "\r\n",
    "@app.route(\"/users/<username>\")\r\n",
    "def profile(username):\r\n",
    "    return \"Welcome to the profile of \" + username\r\n",
    "\r\n",
    "if __name__ == '__main__':\r\n",
    "    app.run(debug=True, use_reloader=False)"
   ],
   "outputs": [
    {
     "output_type": "stream",
     "name": "stdout",
     "text": [
      " * Serving Flask app \"__main__\" (lazy loading)\n",
      " * Environment: production\n",
      "\u001b[31m   WARNING: This is a development server. Do not use it in a production deployment.\u001b[0m\n",
      "\u001b[2m   Use a production WSGI server instead.\u001b[0m\n",
      " * Debug mode: on\n"
     ]
    },
    {
     "output_type": "stream",
     "name": "stderr",
     "text": [
      " * Running on http://127.0.0.1:5000/ (Press CTRL+C to quit)\n",
      "127.0.0.1 - - [28/Sep/2021 16:24:07] \"GET /users/basudevtyagi HTTP/1.1\" 200 -\n"
     ]
    }
   ],
   "metadata": {}
  },
  {
   "cell_type": "markdown",
   "source": [
    "## Jinja Templating\r\n",
    "&emsp;Flask uses Jinja Templating to allow small snippets of code to be used in the HTML file such as conditionals or loops, etc."
   ],
   "metadata": {}
  },
  {
   "cell_type": "markdown",
   "source": [
    "Let's create a minimal profile page to explain Jinja Templating."
   ],
   "metadata": {}
  },
  {
   "cell_type": "code",
   "execution_count": 2,
   "source": [
    "from flask import Flask, render_template\r\n",
    "from datetime import datetime\r\n",
    "\r\n",
    "app = Flask(__name__)\r\n",
    "\r\n",
    "login_time = datetime.now()\r\n",
    "topics = ['Python','Machine Learning','Data Science']\r\n",
    "\r\n",
    "@app.route(\"/users/<username>\")\r\n",
    "def profile(username):\r\n",
    "    return  render_template('jinja.html',username = username, login_time=login_time, topics=topics)\r\n",
    "\r\n",
    "if __name__ == '__main__':\r\n",
    "    app.run(debug=True, use_reloader=False)"
   ],
   "outputs": [
    {
     "output_type": "stream",
     "name": "stdout",
     "text": [
      " * Serving Flask app \"__main__\" (lazy loading)\n",
      " * Environment: production\n",
      "\u001b[31m   WARNING: This is a development server. Do not use it in a production deployment.\u001b[0m\n",
      "\u001b[2m   Use a production WSGI server instead.\u001b[0m\n",
      " * Debug mode: on\n"
     ]
    },
    {
     "output_type": "stream",
     "name": "stderr",
     "text": [
      " * Running on http://127.0.0.1:5000/ (Press CTRL+C to quit)\n",
      "127.0.0.1 - - [28/Sep/2021 23:57:39] \"GET /users/basudev HTTP/1.1\" 200 -\n"
     ]
    }
   ],
   "metadata": {}
  },
  {
   "cell_type": "markdown",
   "source": [
    "## HTTP Methods"
   ],
   "metadata": {}
  },
  {
   "cell_type": "code",
   "execution_count": 21,
   "source": [
    "from flask import Flask\r\n",
    "\r\n",
    "app = Flask(__name__)\r\n",
    "\r\n",
    "@app.route(\"/login\", methods=[\"GET\"])\r\n",
    "def login_form():\r\n",
    "    return \"This is the login form\"\r\n",
    "@app.route(\"/login\", methods=[\"POST\"])\r\n",
    "def login_auth():\r\n",
    "    return \"Processing data...\"\r\n",
    "@app.route(\"/login\", methods=[\"DELETE\"])\r\n",
    "def delete():\r\n",
    "    return \"DELETE method\"\r\n",
    "@app.route(\"/login\", methods=[\"PUT\"])\r\n",
    "def put():\r\n",
    "    return \"PUT method\"\r\n",
    "\r\n",
    "if __name__ == '__main__':\r\n",
    "    app.run(debug=True, use_reloader=False)"
   ],
   "outputs": [
    {
     "output_type": "stream",
     "name": "stdout",
     "text": [
      " * Serving Flask app \"__main__\" (lazy loading)\n",
      " * Environment: production\n",
      "\u001b[31m   WARNING: This is a development server. Do not use it in a production deployment.\u001b[0m\n",
      "\u001b[2m   Use a production WSGI server instead.\u001b[0m\n",
      " * Debug mode: on\n"
     ]
    },
    {
     "output_type": "stream",
     "name": "stderr",
     "text": [
      " * Running on http://127.0.0.1:5000/ (Press CTRL+C to quit)\n",
      "127.0.0.1 - - [28/Sep/2021 16:26:35] \"GET /login HTTP/1.1\" 200 -\n",
      "127.0.0.1 - - [28/Sep/2021 16:26:41] \"POST /login HTTP/1.1\" 200 -\n",
      "127.0.0.1 - - [28/Sep/2021 16:26:47] \"PUT /login HTTP/1.1\" 200 -\n",
      "127.0.0.1 - - [28/Sep/2021 16:26:55] \"DELETE /login HTTP/1.1\" 200 -\n"
     ]
    }
   ],
   "metadata": {}
  },
  {
   "cell_type": "markdown",
   "source": [
    "For simplification, we can import the ```request``` package from flask."
   ],
   "metadata": {}
  },
  {
   "cell_type": "code",
   "execution_count": 22,
   "source": [
    "from flask import Flask, request\r\n",
    "\r\n",
    "app = Flask(__name__)\r\n",
    "\r\n",
    "@app.route(\"/login\", methods=[\"GET\", \"POST\", \"DELETE\", \"PUT\"])\r\n",
    "def login():\r\n",
    "    if request.method == \"DELETE\":\r\n",
    "        return \"DELETE method\"\r\n",
    "    elif request.method == \"PUT\":\r\n",
    "        return \"PUT method\"\r\n",
    "    elif request.method == \"GET\":\r\n",
    "        return \"This is the login form\"\r\n",
    "    elif request.method == \"POST\":\r\n",
    "        return \"Processing your data\"\r\n",
    "\r\n",
    "if __name__ == '__main__':\r\n",
    "    app.run(debug=True, use_reloader=False)"
   ],
   "outputs": [
    {
     "output_type": "stream",
     "name": "stdout",
     "text": [
      " * Serving Flask app \"__main__\" (lazy loading)\n",
      " * Environment: production\n",
      "\u001b[31m   WARNING: This is a development server. Do not use it in a production deployment.\u001b[0m\n",
      "\u001b[2m   Use a production WSGI server instead.\u001b[0m\n",
      " * Debug mode: on\n"
     ]
    },
    {
     "output_type": "stream",
     "name": "stderr",
     "text": [
      " * Running on http://127.0.0.1:5000/ (Press CTRL+C to quit)\n",
      "127.0.0.1 - - [28/Sep/2021 16:27:51] \"GET /login HTTP/1.1\" 200 -\n",
      "127.0.0.1 - - [28/Sep/2021 16:27:56] \"POST /login HTTP/1.1\" 200 -\n",
      "127.0.0.1 - - [28/Sep/2021 16:28:01] \"PUT /login HTTP/1.1\" 200 -\n",
      "127.0.0.1 - - [28/Sep/2021 16:28:07] \"DELETE /login HTTP/1.1\" 200 -\n"
     ]
    }
   ],
   "metadata": {}
  },
  {
   "cell_type": "markdown",
   "source": [
    "## The Request Object\r\n",
    "The ```request``` object provides information on the request that was made to the route. To utilize this object, it must\r\n",
    "be imported from the flask module:\r\n",
    "\r\n",
    "```from flask import request```\r\n",
    "\r\n",
    "Let's create a simple login application to understand the working of ```request``` object."
   ],
   "metadata": {}
  },
  {
   "cell_type": "code",
   "execution_count": 23,
   "source": [
    "from flask import Flask, request, render_template\r\n",
    "\r\n",
    "app = Flask(__name__)\r\n",
    "\r\n",
    "@app.route(\"/\", methods=[\"GET\", \"POST\"])\r\n",
    "def login():\r\n",
    "    print(request)\r\n",
    "    if request.method == \"GET\":\r\n",
    "        return render_template('login.html')\r\n",
    "    elif request.method == \"POST\":\r\n",
    "        print(request.form)\r\n",
    "        if request.form['username'] == 'basudevtyagi' and request.form['password'] == 'mysecretpassword':\r\n",
    "            return render_template('home.html',username=request.form['username'])\r\n",
    "        else:\r\n",
    "            return render_template('login.html',message=\"Error Logging in.\")\r\n",
    "\r\n",
    "if __name__ == '__main__':\r\n",
    "    app.run(debug=True, use_reloader=False)"
   ],
   "outputs": [
    {
     "output_type": "stream",
     "name": "stdout",
     "text": [
      " * Serving Flask app \"__main__\" (lazy loading)\n",
      " * Environment: production\n",
      "\u001b[31m   WARNING: This is a development server. Do not use it in a production deployment.\u001b[0m\n",
      "\u001b[2m   Use a production WSGI server instead.\u001b[0m\n",
      " * Debug mode: on\n"
     ]
    },
    {
     "output_type": "stream",
     "name": "stderr",
     "text": [
      " * Running on http://127.0.0.1:5000/ (Press CTRL+C to quit)\n",
      "127.0.0.1 - - [28/Sep/2021 16:51:17] \"GET / HTTP/1.1\" 200 -\n"
     ]
    },
    {
     "output_type": "stream",
     "name": "stdout",
     "text": [
      "<Request 'http://127.0.0.1:5000/' [GET]>\n"
     ]
    },
    {
     "output_type": "stream",
     "name": "stderr",
     "text": [
      "127.0.0.1 - - [28/Sep/2021 16:52:15] \"POST / HTTP/1.1\" 200 -\n"
     ]
    },
    {
     "output_type": "stream",
     "name": "stdout",
     "text": [
      "<Request 'http://127.0.0.1:5000/' [POST]>\n",
      "ImmutableMultiDict([('username', 'basudevtyagi'), ('password', 'mysecretpassword')])\n"
     ]
    },
    {
     "output_type": "stream",
     "name": "stderr",
     "text": [
      "127.0.0.1 - - [28/Sep/2021 16:55:03] \"GET / HTTP/1.1\" 200 -\n"
     ]
    },
    {
     "output_type": "stream",
     "name": "stdout",
     "text": [
      "<Request 'http://127.0.0.1:5000/' [GET]>\n"
     ]
    },
    {
     "output_type": "stream",
     "name": "stderr",
     "text": [
      "127.0.0.1 - - [28/Sep/2021 16:55:22] \"POST / HTTP/1.1\" 200 -\n"
     ]
    },
    {
     "output_type": "stream",
     "name": "stdout",
     "text": [
      "<Request 'http://127.0.0.1:5000/' [POST]>\n",
      "ImmutableMultiDict([('username', 'randomuser'), ('password', 'mysecretpassowrd')])\n"
     ]
    }
   ],
   "metadata": {}
  },
  {
   "cell_type": "markdown",
   "source": [
    "As discussed earlier Flask is a lightweight web framework and has several use cases... all it takes is a small idea and a little creativity to create your first Flask Web-App. 😉"
   ],
   "metadata": {}
  }
 ],
 "metadata": {
  "interpreter": {
   "hash": "57a037f624fafc3281159579d64cee1fdfb84e9818f66406ef0df3105fa4e74d"
  },
  "kernelspec": {
   "name": "python3",
   "display_name": "Python 3.8.5 64-bit ('flask_apps': conda)"
  },
  "language_info": {
   "name": "python",
   "version": "3.8.5",
   "mimetype": "text/x-python",
   "codemirror_mode": {
    "name": "ipython",
    "version": 3
   },
   "pygments_lexer": "ipython3",
   "nbconvert_exporter": "python",
   "file_extension": ".py"
  }
 },
 "nbformat": 4,
 "nbformat_minor": 4
}